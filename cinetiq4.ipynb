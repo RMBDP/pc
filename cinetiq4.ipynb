{
 "cells": [
  {
   "cell_type": "code",
   "execution_count": 2,
   "metadata": {},
   "outputs": [
    {
     "name": "stdout",
     "output_type": "stream",
     "text": [
      "[0.0096 0.0088 0.008  0.007  0.0066 0.0058 0.0052 0.0048 0.0042 0.0038]\n"
     ]
    },
    {
     "data": {
      "image/png": "[encoded data removed]",
      "text/plain": [
       "<Figure size 432x288 with 2 Axes>"
      ]
     },
     "metadata": {
      "needs_background": "light"
     },
     "output_type": "display_data"
    }
   ],
   "source": [
    "from pylab import *\n",
    "\n",
    "##########################\n",
    "# Entrée des données expérimentales\n",
    "##########################\n",
    "# Création de la variable temps, 11 valeurs de 0 à 550 s, toutes les 50 s\n",
    "t=np.arange(0,550,50)\n",
    "# Création de la variable concentration avec les données expérimentales\n",
    "c = [5,4.52,4.08,3.68,3.33,3,2.71,2.45,2.21,2,1.81]\n",
    "\n",
    "##########################\n",
    "# Calcul de la vitesse de disparition\n",
    "########################\n",
    "# Calcul de v, la dérivée de la concentration par rapport au temps\n",
    "v = -np.diff(c)/50\n",
    "# Retrait de la dernière valeur de la liste de c\n",
    "cmodifie = np.delete(c, len(c)-1, 0)\n",
    "# Affiche les valeurs de la vitesse\n",
    "\"\"\"Ici commence le travail des élèves\n",
    "Question 2.2. : Ecrire une ligne permettant d'afficher les valeurs de v\"\"\"\n",
    "print(v)\n",
    "##########################\n",
    "# Tracé de la vitesse de disparition\n",
    "########################\n",
    "# Permet d'afficher 2 graphiques en ligne, celui ci étant le 1er\n",
    "plt.subplot(1, 2, 1)\n",
    "plt.plot(cmodifie,v,\"+\",color='blue',label=\"v\")\n",
    "\n",
    "\"\"\"Question 2.3. : Rajouter le titre du graphique entre les guillements\"\"\"\n",
    "plt.title(\"Evolution de v en fonction de c\")\n",
    "\n",
    "##########################\n",
    "# Vérification de la loi d'ordre 1\n",
    "########################\n",
    "# Création, sous forme d'une liste, de la grandeur lnc, logarithme népérien\n",
    "# de la concentration\n",
    "lnc=[math.log(i) for i in c]\n",
    "\n",
    "##########################\n",
    "# Tracé de l'évolution de lnc en fonction du temps\n",
    "########################\n",
    "# Permet d'afficher 2 graphiques en ligne, celui ci étant le 2ème\n",
    "plt.subplot(1, 2, 2)\n",
    "# Création du tracé de ln c = f(t)\n",
    "plt.plot(t,lnc,'-r',label=\"ln c = f(t)\")\n",
    "plt.title(\"ln(c) en fonction du temps\")\n",
    "\n",
    "##########################\n",
    "# Caractéristiques du graphique\n",
    "##########################e\n",
    "plt.xlim(0)\n",
    "plt.ylim(0)\n",
    "# Affichage de la grille\n",
    "plt.grid()\n",
    "# Affichage des légendes\n",
    "plt.legend()\n",
    "# Affichage du graphique\n",
    "plt.show()"
   ]
  },
  {
   "cell_type": "code",
   "execution_count": null,
   "metadata": {},
   "outputs": [],
   "source": []
  },
  {
   "cell_type": "code",
   "execution_count": null,
   "metadata": {},
   "outputs": [],
   "source": []
  }
 ],
 "metadata": {
  "kernelspec": {
   "display_name": "Python 3",
   "language": "python",
   "name": "python3"
  },
  "language_info": {
   "codemirror_mode": {
    "name": "ipython",
    "version": 3
   },
   "file_extension": ".py",
   "mimetype": "text/x-python",
   "name": "python",
   "nbconvert_exporter": "python",
   "pygments_lexer": "ipython3",
   "version": "3.6.11"
  }
 },
 "nbformat": 4,
 "nbformat_minor": 4
}
