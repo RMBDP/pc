{
 "cells": [
  {
   "cell_type": "code",
   "execution_count": null,
   "metadata": {},
   "outputs": [],
   "source": []
  },
  {
   "cell_type": "code",
   "execution_count": 17,
   "metadata": {},
   "outputs": [],
   "source": [
    "from pylab import *"
   ]
  },
  {
   "cell_type": "markdown",
   "metadata": {},
   "source": [
    "Entrée des données expérimentales. \n",
    "Création de la variable temps, 11 valeurs de 0 à 550 s, toutes les 50 s"
   ]
  },
  {
   "cell_type": "code",
   "execution_count": 3,
   "metadata": {},
   "outputs": [],
   "source": [
    "t=np.arange(0,550,50)"
   ]
  },
  {
   "cell_type": "markdown",
   "metadata": {},
   "source": [
    " Création de la variable concentration avec les données expérimentales (valeurs présentes dans le tableau)"
   ]
  },
  {
   "cell_type": "code",
   "execution_count": 4,
   "metadata": {},
   "outputs": [],
   "source": [
    "\n",
    "c = [5,4.52,4.08,3.68,3.33,3,2.71,2.45,2.21,2,1.81]"
   ]
  },
  {
   "cell_type": "markdown",
   "metadata": {},
   "source": [
    "Calcul de la vitesse de disparition. Calcul de v, la dérivée de la concentration par rapport au temps. La fonction diff() calcule la différence entre les éléments consécutifs d'une liste  : diff(M) == M[i+1] - M[i] ."
   ]
  },
  {
   "cell_type": "code",
   "execution_count": 5,
   "metadata": {},
   "outputs": [],
   "source": [
    "v = -np.diff(c)/50"
   ]
  },
  {
   "cell_type": "raw",
   "metadata": {},
   "source": [
    "\n",
    "# Retrait de la dernière valeur de la liste de c"
   ]
  },
  {
   "cell_type": "code",
   "execution_count": 6,
   "metadata": {},
   "outputs": [],
   "source": [
    "cmodifie = delete(c, len(c)-1, 0)"
   ]
  },
  {
   "cell_type": "raw",
   "metadata": {},
   "source": [
    "# Affiche les valeurs de la vitesse\n",
    "Ecrire une ligne permettant d'afficher les valeurs de v puis exécuter le bloc."
   ]
  },
  {
   "cell_type": "code",
   "execution_count": 7,
   "metadata": {},
   "outputs": [
    {
     "name": "stdout",
     "output_type": "stream",
     "text": [
      "[0.0096 0.0088 0.008  0.007  0.0066 0.0058 0.0052 0.0048 0.0042 0.0038]\n"
     ]
    }
   ],
   "source": [
    "print(v)"
   ]
  },
  {
   "cell_type": "raw",
   "metadata": {},
   "source": [
    "Tracé de la vitesse de disparition\n",
    "\n",
    "# Permet d'afficher 2 graphiques en ligne, celui ci étant le 1er\n"
   ]
  },
  {
   "cell_type": "code",
   "execution_count": 8,
   "metadata": {},
   "outputs": [
    {
     "data": {
      "text/plain": [
       "Text(0.5, 1.0, 'Evolution de v en fonction de c')"
      ]
     },
     "execution_count": 8,
     "metadata": {},
     "output_type": "execute_result"
    },
    {
     "data": {
      "image/png": "[encoded data removed]",
      "text/plain": [
       "<Figure size 432x288 with 1 Axes>"
      ]
     },
     "metadata": {
      "needs_background": "light"
     },
     "output_type": "display_data"
    }
   ],
   "source": [
    "\n",
    "plt.plot(cmodifie,v,\"+\",color='blue',label=\"v\")\n",
    "plt.title(\"Evolution de v en fonction de c\")"
   ]
  },
  {
   "cell_type": "markdown",
   "metadata": {},
   "source": [
    "\"\"\"Question 2.3. : Rajouter le titre du graphique entre les guillements\"\"\""
   ]
  },
  {
   "cell_type": "raw",
   "metadata": {},
   "source": [
    "Vérification de la loi d'ordre 1\n",
    "Création, sous forme d'une liste, de la grandeur lnc, logarithme népérien\n",
    "# de la concentration"
   ]
  },
  {
   "cell_type": "code",
   "execution_count": 14,
   "metadata": {},
   "outputs": [
    {
     "name": "stdout",
     "output_type": "stream",
     "text": [
      "[1.6094379124341003, 1.5085119938441398, 1.4060969884160703, 1.3029127521808397, 1.2029723039923526, 1.0986122886681098, 0.9969486348916096, 0.8960880245566357, 0.7929925155296614, 0.6931471805599453, 0.5933268452777344]\n"
     ]
    }
   ],
   "source": [
    "lnc=[log(i) for i in c]\n",
    "print(lnc)"
   ]
  },
  {
   "cell_type": "raw",
   "metadata": {},
   "source": [
    "Tracé de l'évolution de lnc en fonction du temps\n",
    "\n",
    "Compléter le bloc suivant afin de tracer l'évolution de lnc en fonction du temps. Une aide est disponible sur le document papier"
   ]
  },
  {
   "cell_type": "code",
   "execution_count": 16,
   "metadata": {},
   "outputs": [
    {
     "ename": "SyntaxError",
     "evalue": "invalid syntax (<ipython-input-16-a7b9e65a5fd8>, line 1)",
     "output_type": "error",
     "traceback": [
      "\u001b[0;36m  File \u001b[0;32m\"<ipython-input-16-a7b9e65a5fd8>\"\u001b[0;36m, line \u001b[0;32m1\u001b[0m\n\u001b[0;31m    plt.plot(-A compléter-)\u001b[0m\n\u001b[0m                        ^\u001b[0m\n\u001b[0;31mSyntaxError\u001b[0m\u001b[0;31m:\u001b[0m invalid syntax\n"
     ]
    }
   ],
   "source": [
    "\n",
    "plt.plot(-A compléter-)\n",
    "plt.title(-A compléter-)\n",
    "plt.xlim(0)\n",
    "plt.ylim(0)\n",
    "# Affichage de la grille\n",
    "plt.grid()\n",
    "# Affichage des légendes\n",
    "plt.legend()\n",
    "# Affichage du graphique\n",
    "plt.show()"
   ]
  }
 ],
 "metadata": {
  "kernelspec": {
   "display_name": "Python 3",
   "language": "python",
   "name": "python3"
  },
  "language_info": {
   "codemirror_mode": {
    "name": "ipython",
    "version": 3
   },
   "file_extension": ".py",
   "mimetype": "text/x-python",
   "name": "python",
   "nbconvert_exporter": "python",
   "pygments_lexer": "ipython3",
   "version": "3.7.8"
  }
 },
 "nbformat": 4,
 "nbformat_minor": 4
}
