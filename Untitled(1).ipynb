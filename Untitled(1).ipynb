{
 "cells": [
  {
   "cell_type": "code",
   "execution_count": null,
   "metadata": {},
   "outputs": [],
   "source": [
    "import csv\n",
    "def charge_fichier_csv(fichier, delimiter=\";\",N=0):\n",
    "    \"\"\"\n",
    "    Charge un fichier csv et le renvoie sous forme de tableau\n",
    "\n",
    "    :param: nom de fichier, délimiteur de cellules (par défaut \";\"),\n",
    "    nombre de lignes d'en-tête (en comptant les lignes vides)\n",
    "    :returns: tableau des données\n",
    "    \"\"\"\n",
    "\n",
    "    with open(fichier, 'r', encoding='utf-8') as f :\n",
    "        rfichier = csv.reader(f, delimiter=delimiter)\n",
    "        tableau=[]\n",
    "        index_row=0\n",
    "        for row in rfichier:\n",
    "            if index_row < N:\n",
    "                index_row = index_row+1\n",
    "            else :\n",
    "                for i in range (len(row)):\n",
    "                    if len(tableau) <= i:\n",
    "                        X = []\n",
    "                        tableau.append(X)\n",
    "                    try:\n",
    "                        tableau[i].append(float(row[i].replace(\",\",'.')))\n",
    "                    except ValueError:\n",
    "                        print('erreur:contenu de cellule non numérique')\n",
    "                        continue\n",
    "\n",
    "        return (tableau)\n",
    "    \n",
    "    tableau = charge_fichier_csv('09-fichiers-csv-parabole.csv',delimiter=\";\",N=2)\n",
    "t=tableau[0]\n",
    "print(t)\n",
    "x=tableau[1]\n",
    "print(x)\n",
    "y=tableau[2]\n",
    "print(y)"
   ]
  }
 ],
 "metadata": {
  "kernelspec": {
   "display_name": "Python 3",
   "language": "python",
   "name": "python3"
  },
  "language_info": {
   "codemirror_mode": {
    "name": "ipython",
    "version": 3
   },
   "file_extension": ".py",
   "mimetype": "text/x-python",
   "name": "python",
   "nbconvert_exporter": "python",
   "pygments_lexer": "ipython3",
   "version": "3.6.11"
  }
 },
 "nbformat": 4,
 "nbformat_minor": 4
}
